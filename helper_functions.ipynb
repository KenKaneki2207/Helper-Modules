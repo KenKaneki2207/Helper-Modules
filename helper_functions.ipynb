{
  "nbformat": 4,
  "nbformat_minor": 0,
  "metadata": {
    "colab": {
      "provenance": [],
      "authorship_tag": "ABX9TyPQKLJl8q6t4c4+jZoSbjOb",
      "include_colab_link": true
    },
    "kernelspec": {
      "name": "python3",
      "display_name": "Python 3"
    },
    "language_info": {
      "name": "python"
    }
  },
  "cells": [
    {
      "cell_type": "markdown",
      "metadata": {
        "id": "view-in-github",
        "colab_type": "text"
      },
      "source": [
        "<a href=\"https://colab.research.google.com/github/KenKaneki2207/Helper-Modules/blob/main/helper_functions.ipynb\" target=\"_parent\"><img src=\"https://colab.research.google.com/assets/colab-badge.svg\" alt=\"Open In Colab\"/></a>"
      ]
    },
    {
      "cell_type": "code",
      "execution_count": null,
      "metadata": {
        "id": "KxggXTkOrzfy"
      },
      "outputs": [],
      "source": [
        "def walk_directory(path):\n",
        "  '''\n",
        "  Prerequisities Libraries : import os, before using this function.\n",
        "\n",
        "  Input : path --> path to the directory\n",
        "\n",
        "  Output : All the sub-directories and filenames in the path provided.\n",
        "\n",
        "  '''\n",
        "\n",
        "  for dirpath, dirnames, filenames in os.walk(path):\n",
        "    print(f\"There are {len(dirnames)} directories and {len(filenames)} images in {dirpath}\")"
      ]
    }
  ]
}